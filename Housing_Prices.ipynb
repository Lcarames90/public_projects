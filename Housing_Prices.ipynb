{
  "nbformat": 4,
  "nbformat_minor": 0,
  "metadata": {
    "colab": {
      "provenance": [],
      "toc_visible": true,
      "authorship_tag": "ABX9TyN9o1QHobLf4l6bT5dv8ct0",
      "include_colab_link": true
    },
    "kernelspec": {
      "name": "python3",
      "display_name": "Python 3"
    },
    "language_info": {
      "name": "python"
    }
  },
  "cells": [
    {
      "cell_type": "markdown",
      "metadata": {
        "id": "view-in-github",
        "colab_type": "text"
      },
      "source": [
        "<a href=\"https://colab.research.google.com/github/Lcarames90/public_projects/blob/main/Housing_Prices.ipynb\" target=\"_parent\"><img src=\"https://colab.research.google.com/assets/colab-badge.svg\" alt=\"Open In Colab\"/></a>"
      ]
    },
    {
      "cell_type": "markdown",
      "source": [
        "# **Starting Data Point**<br>\n",
        "Noted in the GitHub Readme, we pull the data from the kaggle website using their kagglehub package. The cell below should not be run again as the file has been downloaded to the Colab directory. However, we retain the output information for later."
      ],
      "metadata": {
        "id": "jYRIfBRcHGT0"
      }
    },
    {
      "cell_type": "code",
      "execution_count": 1,
      "metadata": {
        "colab": {
          "base_uri": "https://localhost:8080/"
        },
        "id": "O2xnSlGav9Xh",
        "outputId": "209c1192-3421-4a66-ce4d-e06ae0a73509"
      },
      "outputs": [
        {
          "output_type": "stream",
          "name": "stdout",
          "text": [
            "Downloading from https://www.kaggle.com/api/v1/datasets/download/martinfrederiksen/danish-residential-housing-prices-1992-2024?dataset_version_number=3...\n"
          ]
        },
        {
          "output_type": "stream",
          "name": "stderr",
          "text": [
            "100%|██████████| 36.2M/36.2M [00:02<00:00, 14.6MB/s]"
          ]
        },
        {
          "output_type": "stream",
          "name": "stdout",
          "text": [
            "Extracting files...\n"
          ]
        },
        {
          "output_type": "stream",
          "name": "stderr",
          "text": [
            "\n"
          ]
        },
        {
          "output_type": "stream",
          "name": "stdout",
          "text": [
            "Path to dataset files: /root/.cache/kagglehub/datasets/martinfrederiksen/danish-residential-housing-prices-1992-2024/versions/3\n"
          ]
        }
      ],
      "source": [
        "import kagglehub\n",
        "\n",
        "# Download latest version\n",
        "path = kagglehub.dataset_download(\"martinfrederiksen/danish-residential-housing-prices-1992-2024\")\n",
        "\n",
        "print(\"Path to dataset files:\", path)"
      ]
    },
    {
      "cell_type": "markdown",
      "source": [
        "Redundancy, just in case:\n",
        "\n",
        "Downloading from https://www.kaggle.com/api/v1/datasets/download/martinfrederiksen/danish-residential-housing-prices-1992-2024?dataset_version_number=3...\n",
        "100%|██████████| 36.2M/36.2M [00:02<00:00, 14.6MB/s]Extracting files...\n",
        "\n",
        "Path to dataset files: /root/.cache/kagglehub/datasets/martinfrederiksen/danish-residential-housing-prices-1992-2024/versions/3"
      ],
      "metadata": {
        "id": "BH9kU6xmHtgD"
      }
    }
  ]
}